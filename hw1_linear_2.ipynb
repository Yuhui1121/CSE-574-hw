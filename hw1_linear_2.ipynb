{
 "cells": [
  {
   "cell_type": "markdown",
   "id": "cb765a67-2290-435a-8373-b76e6a61efd5",
   "metadata": {},
   "source": [
    "Hw1_Problem1"
   ]
  },
  {
   "cell_type": "code",
   "execution_count": 2,
   "id": "9922dd3a-dc8a-41f0-84ca-95eaa776e835",
   "metadata": {},
   "outputs": [],
   "source": [
    "import pandas as pd\n",
    "import numpy as np\n",
    "winequality = pd.read_csv(\"/Users/songluchuan/Desktop/class/semester 3/cs574/hw1/datasets/winequality-red.csv\")"
   ]
  },
  {
   "cell_type": "code",
   "execution_count": 3,
   "id": "b14d0f71-357b-4bc2-8775-905d851b46b1",
   "metadata": {},
   "outputs": [
    {
     "data": {
      "text/plain": [
       "fixed acidity  volatile acidity  citric acid  residual sugar  chlorides  free sulfur dioxide  total sulfur dioxide  density  pH    sulphates  alcohol  quality\n",
       "7.5            0.510             0.02         1.7             0.084      13.0                 31.0                  0.99538  3.36  0.54       10.5     6          4\n",
       "6.7            0.460             0.24         1.7             0.077      18.0                 34.0                  0.99480  3.39  0.60       10.6     6          4\n",
       "7.2            0.360             0.46         2.1             0.074      24.0                 44.0                  0.99534  3.40  0.85       11.0     7          4\n",
       "               0.695             0.13         2.0             0.076      12.0                 20.0                  0.99546  3.29  0.54       10.1     5          4\n",
       "8.3            0.650             0.10         2.9             0.089      17.0                 40.0                  0.99803  3.29  0.55       9.5      5          3\n",
       "                                                                                                                                                                 ..\n",
       "7.5            0.430             0.30         2.2             0.062      6.0                  12.0                  0.99495  3.44  0.72       11.5     7          1\n",
       "               0.420             0.32         2.7             0.067      7.0                  25.0                  0.99628  3.24  0.44       10.4     5          1\n",
       "                                 0.31         1.6             0.080      15.0                 42.0                  0.99780  3.31  0.64       9.0      5          1\n",
       "               0.410             0.15         3.7             0.104      29.0                 94.0                  0.99786  3.14  0.58       9.1      5          1\n",
       "15.9           0.360             0.65         7.5             0.096      22.0                 71.0                  0.99760  2.98  0.84       14.9     5          1\n",
       "Length: 1359, dtype: int64"
      ]
     },
     "execution_count": 3,
     "metadata": {},
     "output_type": "execute_result"
    }
   ],
   "source": [
    "winequality.head()\n",
    "winequality.dtypes\n",
    "winequality.describe()\n",
    "winequality.shape\n",
    "winequality.value_counts()"
   ]
  },
  {
   "cell_type": "code",
   "execution_count": 4,
   "id": "d34618ed-39c5-4761-b4ab-e2f78ff347be",
   "metadata": {},
   "outputs": [],
   "source": [
    "missing_values = winequality.isnull().sum(axis=0)"
   ]
  },
  {
   "cell_type": "code",
   "execution_count": 5,
   "id": "100feaf9-d3b9-40ba-aa69-6568eb058d93",
   "metadata": {},
   "outputs": [
    {
     "data": {
      "text/plain": [
       "fixed acidity           0\n",
       "volatile acidity        0\n",
       "citric acid             0\n",
       "residual sugar          0\n",
       "chlorides               0\n",
       "free sulfur dioxide     0\n",
       "total sulfur dioxide    0\n",
       "density                 0\n",
       "pH                      0\n",
       "sulphates               0\n",
       "alcohol                 0\n",
       "quality                 0\n",
       "dtype: int64"
      ]
     },
     "execution_count": 5,
     "metadata": {},
     "output_type": "execute_result"
    }
   ],
   "source": [
    "missing_values"
   ]
  },
  {
   "cell_type": "code",
   "execution_count": 6,
   "id": "ce5b6dc6-ceb2-41b9-bb07-e8f073253e4c",
   "metadata": {},
   "outputs": [
    {
     "data": {
      "text/plain": [
       "dtype('int64')"
      ]
     },
     "execution_count": 6,
     "metadata": {},
     "output_type": "execute_result"
    }
   ],
   "source": [
    "winequality[\"quality\"].dtypes"
   ]
  },
  {
   "cell_type": "code",
   "execution_count": 20,
   "id": "054cbfac-222d-4e99-93a7-12cc044ae3c5",
   "metadata": {},
   "outputs": [
    {
     "name": "stdout",
     "output_type": "stream",
     "text": [
      "Shape of X_train: (1279, 10)\n",
      "Shape of X_test: (320, 10)\n",
      "Shape of y_train: (1279,)\n",
      "Shape of y_test: (320,)\n"
     ]
    }
   ],
   "source": [
    "feature_columns = ['fixed acidity', 'volatile acidity', 'citric acid', \n",
    "                   'residual sugar', 'chlorides', 'free sulfur dioxide',\n",
    "                   'total sulfur dioxide', 'density','sulphates', 'alcohol'\n",
    "                  ]\n",
    "target_column = 'pH'\n",
    "\n",
    "# Create X (input features) by selecting the specified columns\n",
    "X = winequality[feature_columns]\n",
    "# Create y (target) by selecting the 'quality' column\n",
    "y = winequality[target_column]\n",
    "\n",
    "# Optionally, can convert X and y to NumPy arrays if needed\n",
    "# X = X.to_numpy()\n",
    "# y = y.to_numpy()\n",
    "\n",
    "# Determine the number of rows for training and testing\n",
    "total_samples = len(X)\n",
    "train_size = int(0.8 * total_samples)  # 80% for training, 20% for testing\n",
    "\n",
    "X_train = X[:train_size]\n",
    "y_train = y[:train_size]\n",
    "X_test = X[train_size:]\n",
    "y_test = y[train_size:]\n",
    "\n",
    "# Check the shapes of the resulting sets\n",
    "print(\"Shape of X_train:\", X_train.shape)\n",
    "print(\"Shape of X_test:\", X_test.shape)\n",
    "print(\"Shape of y_train:\", y_train.shape)\n",
    "print(\"Shape of y_test:\", y_test.shape)\n"
   ]
  },
  {
   "cell_type": "code",
   "execution_count": 22,
   "id": "443bd5d5",
   "metadata": {},
   "outputs": [
    {
     "data": {
      "text/plain": [
       "array([-5.71088743e-02,  8.17063892e-02, -3.86110936e-02, -3.99159746e-04,\n",
       "       -5.61350861e-01,  1.88259856e-03, -8.95262295e-04,  3.65038955e+00,\n",
       "       -2.69450961e-03,  1.77469281e-02])"
      ]
     },
     "execution_count": 22,
     "metadata": {},
     "output_type": "execute_result"
    }
   ],
   "source": [
    "X_train_T = X_train.T\n",
    "X_train_T_X_inv = np.linalg.inv(np.dot(X_train_T, X_train))\n",
    "w = np.dot(np.dot(X_train_T_X_inv, X_train_T), y_train)\n",
    "w"
   ]
  },
  {
   "cell_type": "code",
   "execution_count": 19,
   "id": "39f502e0",
   "metadata": {},
   "outputs": [
    {
     "data": {
      "text/plain": [
       "0.009507793465164182"
      ]
     },
     "execution_count": 19,
     "metadata": {},
     "output_type": "execute_result"
    }
   ],
   "source": [
    "# test value of X. Add a column of ones to X_train to include the bias term\n",
    "# X_test_b = np.column_stack([np.ones((X_test.shape[0], 1)), X_test])\n",
    "\n",
    "# actual value of y\n",
    "y_test_true = y_test.to_numpy()\n",
    "\n",
    "\n",
    "# Calculate predictions on the testing data\n",
    "y_test_pred = np.dot(X_test, w)\n",
    "\n",
    "# Calculate the squared errors\n",
    "squared_errors = (y_test_true - y_test_pred) ** 2\n",
    "\n",
    "mse = np.mean(squared_errors)\n",
    "mse"
   ]
  },
  {
   "cell_type": "code",
   "execution_count": 16,
   "id": "a3310557",
   "metadata": {},
   "outputs": [
    {
     "data": {
      "image/png": "[encoded data removed]",
      "text/plain": [
       "<Figure size 800x600 with 1 Axes>"
      ]
     },
     "metadata": {},
     "output_type": "display_data"
    }
   ],
   "source": [
    "import matplotlib.pyplot as plt\n",
    "\n",
    "# Create a scatter plot\n",
    "plt.figure(figsize=(8, 6))  # Adjust the figure size as needed\n",
    "plt.scatter(y_test_true, y_test_pred, color='blue', alpha=0.2, s=40)  # Scatter plot of actual vs. predicted values\n",
    "\n",
    "# Add labels and a title\n",
    "plt.xlabel(\"Ground Truth\")\n",
    "plt.ylabel(\"Predicted Values\")\n",
    "plt.title(\"Actual vs. Predicted Values\")\n",
    "\n",
    "# Add a diagonal line for reference (perfect prediction)\n",
    "plt.plot([min(y_test), max(y_test)], [min(y_test), max(y_test)], linestyle='--', color='red', linewidth=2)\n",
    "\n",
    "\n",
    "# Show the plot\n",
    "plt.show()"
   ]
  },
  {
   "cell_type": "markdown",
   "id": "9859a595-e11b-433f-84c5-8ef71ff78f08",
   "metadata": {},
   "source": [
    "Hw1_Problem2"
   ]
  },
  {
   "cell_type": "markdown",
   "id": "6c37afc3-1980-4a83-ab74-956cbfe87dac",
   "metadata": {},
   "source": [
    "import pandas as pd\n",
    "import numpy as np\n",
    "penguins = pd.read_csv(\"/Users/songluchuan/Desktop/class/semester 3/cs574/hw1/datasets/penguins.csv\")"
   ]
  },
  {
   "cell_type": "code",
   "execution_count": 27,
   "id": "60da5251-96c9-4fe9-a651-99d131b54755",
   "metadata": {},
   "outputs": [
    {
     "data": {
      "text/plain": [
       "species  island     bill_length_mm  bill_depth_mm  flipper_length_mm  body_mass_g  sex     year\n",
       "Adelie   Biscoe     34.5            18.1           187.0              2900.0       female  2008    1\n",
       "Gentoo   Biscoe     44.0            13.6           208.0              4350.0       female  2008    1\n",
       "                    43.6            13.9           217.0              4900.0       female  2008    1\n",
       "                    43.5            15.2           213.0              4650.0       female  2009    1\n",
       "                                    14.2           220.0              4700.0       female  2008    1\n",
       "                                                                                                  ..\n",
       "Adelie   Torgersen  36.6            17.8           185.0              3700.0       female  2007    1\n",
       "                    36.2            17.2           187.0              3150.0       female  2009    1\n",
       "                                    16.1           187.0              3550.0       female  2008    1\n",
       "                    35.9            16.6           190.0              3050.0       female  2008    1\n",
       "Gentoo   Biscoe     59.6            17.0           230.0              6050.0       male    2007    1\n",
       "Length: 333, dtype: int64"
      ]
     },
     "execution_count": 27,
     "metadata": {},
     "output_type": "execute_result"
    }
   ],
   "source": [
    "penguins.head()\n",
    "penguins.dtypes\n",
    "penguins.describe()\n",
    "penguins.shape\n",
    "penguins.value_counts()"
   ]
  },
  {
   "cell_type": "code",
   "execution_count": 28,
   "id": "808db560-8f6d-4bc0-9dc8-4f681f92661f",
   "metadata": {},
   "outputs": [],
   "source": [
    "missing_values = penguins.isnull().sum(axis=0)"
   ]
  },
  {
   "cell_type": "code",
   "execution_count": 29,
   "id": "994443f9-7bc5-4438-a81a-873c8dd56775",
   "metadata": {},
   "outputs": [
    {
     "data": {
      "text/plain": [
       "species               0\n",
       "island                0\n",
       "bill_length_mm        2\n",
       "bill_depth_mm         2\n",
       "flipper_length_mm     2\n",
       "body_mass_g           2\n",
       "sex                  11\n",
       "year                  0\n",
       "dtype: int64"
      ]
     },
     "execution_count": 29,
     "metadata": {},
     "output_type": "execute_result"
    }
   ],
   "source": [
    "missing_values"
   ]
  },
  {
   "cell_type": "code",
   "execution_count": 30,
   "id": "45445967-6a5c-457d-b946-eafed2a54c5e",
   "metadata": {},
   "outputs": [],
   "source": [
    "# drop missing values\n",
    "\n",
    "# List of columns with missing values\n",
    "columns_with_missing = ['bill_length_mm', 'bill_depth_mm', 'flipper_length_mm', 'body_mass_g', 'sex']\n",
    "\n",
    "# Drop rows with missing values in the specified columns\n",
    "penguins_cleaned = penguins.dropna(subset=columns_with_missing)\n"
   ]
  },
  {
   "cell_type": "code",
   "execution_count": 31,
   "id": "1398d4e7-11e9-410a-8dfb-7a2566fbddc7",
   "metadata": {},
   "outputs": [
    {
     "data": {
      "text/html": [
       "<div>\n",
       "<style scoped>\n",
       "    .dataframe tbody tr th:only-of-type {\n",
       "        vertical-align: middle;\n",
       "    }\n",
       "\n",
       "    .dataframe tbody tr th {\n",
       "        vertical-align: top;\n",
       "    }\n",
       "\n",
       "    .dataframe thead th {\n",
       "        text-align: right;\n",
       "    }\n",
       "</style>\n",
       "<table border=\"1\" class=\"dataframe\">\n",
       "  <thead>\n",
       "    <tr style=\"text-align: right;\">\n",
       "      <th></th>\n",
       "      <th>species</th>\n",
       "      <th>island</th>\n",
       "      <th>bill_length_mm</th>\n",
       "      <th>bill_depth_mm</th>\n",
       "      <th>flipper_length_mm</th>\n",
       "      <th>body_mass_g</th>\n",
       "      <th>sex</th>\n",
       "      <th>year</th>\n",
       "    </tr>\n",
       "  </thead>\n",
       "  <tbody>\n",
       "    <tr>\n",
       "      <th>0</th>\n",
       "      <td>Adelie</td>\n",
       "      <td>Torgersen</td>\n",
       "      <td>39.1</td>\n",
       "      <td>18.7</td>\n",
       "      <td>181.0</td>\n",
       "      <td>3750.0</td>\n",
       "      <td>male</td>\n",
       "      <td>2007</td>\n",
       "    </tr>\n",
       "    <tr>\n",
       "      <th>1</th>\n",
       "      <td>Adelie</td>\n",
       "      <td>Torgersen</td>\n",
       "      <td>39.5</td>\n",
       "      <td>17.4</td>\n",
       "      <td>186.0</td>\n",
       "      <td>3800.0</td>\n",
       "      <td>female</td>\n",
       "      <td>2007</td>\n",
       "    </tr>\n",
       "    <tr>\n",
       "      <th>2</th>\n",
       "      <td>Adelie</td>\n",
       "      <td>Torgersen</td>\n",
       "      <td>40.3</td>\n",
       "      <td>18.0</td>\n",
       "      <td>195.0</td>\n",
       "      <td>3250.0</td>\n",
       "      <td>female</td>\n",
       "      <td>2007</td>\n",
       "    </tr>\n",
       "    <tr>\n",
       "      <th>4</th>\n",
       "      <td>Adelie</td>\n",
       "      <td>Torgersen</td>\n",
       "      <td>36.7</td>\n",
       "      <td>19.3</td>\n",
       "      <td>193.0</td>\n",
       "      <td>3450.0</td>\n",
       "      <td>female</td>\n",
       "      <td>2007</td>\n",
       "    </tr>\n",
       "    <tr>\n",
       "      <th>5</th>\n",
       "      <td>Adelie</td>\n",
       "      <td>Torgersen</td>\n",
       "      <td>39.3</td>\n",
       "      <td>20.6</td>\n",
       "      <td>190.0</td>\n",
       "      <td>3650.0</td>\n",
       "      <td>male</td>\n",
       "      <td>2007</td>\n",
       "    </tr>\n",
       "    <tr>\n",
       "      <th>...</th>\n",
       "      <td>...</td>\n",
       "      <td>...</td>\n",
       "      <td>...</td>\n",
       "      <td>...</td>\n",
       "      <td>...</td>\n",
       "      <td>...</td>\n",
       "      <td>...</td>\n",
       "      <td>...</td>\n",
       "    </tr>\n",
       "    <tr>\n",
       "      <th>339</th>\n",
       "      <td>Chinstrap</td>\n",
       "      <td>Dream</td>\n",
       "      <td>55.8</td>\n",
       "      <td>19.8</td>\n",
       "      <td>207.0</td>\n",
       "      <td>4000.0</td>\n",
       "      <td>male</td>\n",
       "      <td>2009</td>\n",
       "    </tr>\n",
       "    <tr>\n",
       "      <th>340</th>\n",
       "      <td>Chinstrap</td>\n",
       "      <td>Dream</td>\n",
       "      <td>43.5</td>\n",
       "      <td>18.1</td>\n",
       "      <td>202.0</td>\n",
       "      <td>3400.0</td>\n",
       "      <td>female</td>\n",
       "      <td>2009</td>\n",
       "    </tr>\n",
       "    <tr>\n",
       "      <th>341</th>\n",
       "      <td>Chinstrap</td>\n",
       "      <td>Dream</td>\n",
       "      <td>49.6</td>\n",
       "      <td>18.2</td>\n",
       "      <td>193.0</td>\n",
       "      <td>3775.0</td>\n",
       "      <td>male</td>\n",
       "      <td>2009</td>\n",
       "    </tr>\n",
       "    <tr>\n",
       "      <th>342</th>\n",
       "      <td>Chinstrap</td>\n",
       "      <td>Dream</td>\n",
       "      <td>50.8</td>\n",
       "      <td>19.0</td>\n",
       "      <td>210.0</td>\n",
       "      <td>4100.0</td>\n",
       "      <td>male</td>\n",
       "      <td>2009</td>\n",
       "    </tr>\n",
       "    <tr>\n",
       "      <th>343</th>\n",
       "      <td>Chinstrap</td>\n",
       "      <td>Dream</td>\n",
       "      <td>50.2</td>\n",
       "      <td>18.7</td>\n",
       "      <td>198.0</td>\n",
       "      <td>3775.0</td>\n",
       "      <td>female</td>\n",
       "      <td>2009</td>\n",
       "    </tr>\n",
       "  </tbody>\n",
       "</table>\n",
       "<p>333 rows × 8 columns</p>\n",
       "</div>"
      ],
      "text/plain": [
       "       species     island  bill_length_mm  bill_depth_mm  flipper_length_mm  \\\n",
       "0       Adelie  Torgersen            39.1           18.7              181.0   \n",
       "1       Adelie  Torgersen            39.5           17.4              186.0   \n",
       "2       Adelie  Torgersen            40.3           18.0              195.0   \n",
       "4       Adelie  Torgersen            36.7           19.3              193.0   \n",
       "5       Adelie  Torgersen            39.3           20.6              190.0   \n",
       "..         ...        ...             ...            ...                ...   \n",
       "339  Chinstrap      Dream            55.8           19.8              207.0   \n",
       "340  Chinstrap      Dream            43.5           18.1              202.0   \n",
       "341  Chinstrap      Dream            49.6           18.2              193.0   \n",
       "342  Chinstrap      Dream            50.8           19.0              210.0   \n",
       "343  Chinstrap      Dream            50.2           18.7              198.0   \n",
       "\n",
       "     body_mass_g     sex  year  \n",
       "0         3750.0    male  2007  \n",
       "1         3800.0  female  2007  \n",
       "2         3250.0  female  2007  \n",
       "4         3450.0  female  2007  \n",
       "5         3650.0    male  2007  \n",
       "..           ...     ...   ...  \n",
       "339       4000.0    male  2009  \n",
       "340       3400.0  female  2009  \n",
       "341       3775.0    male  2009  \n",
       "342       4100.0    male  2009  \n",
       "343       3775.0  female  2009  \n",
       "\n",
       "[333 rows x 8 columns]"
      ]
     },
     "execution_count": 31,
     "metadata": {},
     "output_type": "execute_result"
    }
   ],
   "source": [
    "penguins_cleaned"
   ]
  },
  {
   "cell_type": "code",
   "execution_count": 32,
   "id": "2da2a3f1-4166-4354-86ab-47a21865515d",
   "metadata": {},
   "outputs": [],
   "source": [
    "# List of columns to convert to categorical\n",
    "# columns_to_convert = ['species', 'island', 'sex']\n",
    "\n",
    "# Convert the specified columns to categorical\n",
    "penguins_cleaned_copy = penguins_cleaned.copy()\n",
    "\n",
    "penguins_cleaned_copy['species'] = penguins_cleaned_copy['species'].astype('category')\n",
    "penguins_cleaned_copy['island'] = penguins_cleaned_copy['island'].astype('category')  # Corrected column name\n",
    "penguins_cleaned_copy['sex'] = penguins_cleaned_copy['sex'].astype('category')  # Corrected column name\n",
    "\n",
    "penguins = penguins_cleaned_copy"
   ]
  },
  {
   "cell_type": "code",
   "execution_count": 33,
   "id": "2e290cbe-1583-479c-adcf-a2e6c6eba8c0",
   "metadata": {},
   "outputs": [
    {
     "data": {
      "text/plain": [
       "species              category\n",
       "island               category\n",
       "bill_length_mm        float64\n",
       "bill_depth_mm         float64\n",
       "flipper_length_mm     float64\n",
       "body_mass_g           float64\n",
       "sex                  category\n",
       "year                    int64\n",
       "dtype: object"
      ]
     },
     "execution_count": 33,
     "metadata": {},
     "output_type": "execute_result"
    }
   ],
   "source": [
    "penguins.dtypes"
   ]
  },
  {
   "cell_type": "code",
   "execution_count": 34,
   "id": "ee278803-9493-40fb-9b05-21d2f4b52b6f",
   "metadata": {},
   "outputs": [],
   "source": [
    "\n",
    "# List of non-categorical columns to normalize\n",
    "columns_to_normalize = ['bill_length_mm', 'bill_depth_mm', 'flipper_length_mm', 'body_mass_g']\n",
    "\n",
    "\n",
    "# Calculate the min and max values for each column\n",
    "min_max_values = penguins[columns_to_normalize].agg(['min', 'max'])"
   ]
  },
  {
   "cell_type": "code",
   "execution_count": 11,
   "id": "7e1ae13a-2d43-4d79-8dba-7de6f057cbb0",
   "metadata": {},
   "outputs": [
    {
     "data": {
      "text/html": [
       "<div>\n",
       "<style scoped>\n",
       "    .dataframe tbody tr th:only-of-type {\n",
       "        vertical-align: middle;\n",
       "    }\n",
       "\n",
       "    .dataframe tbody tr th {\n",
       "        vertical-align: top;\n",
       "    }\n",
       "\n",
       "    .dataframe thead th {\n",
       "        text-align: right;\n",
       "    }\n",
       "</style>\n",
       "<table border=\"1\" class=\"dataframe\">\n",
       "  <thead>\n",
       "    <tr style=\"text-align: right;\">\n",
       "      <th></th>\n",
       "      <th>bill_length_mm</th>\n",
       "      <th>bill_depth_mm</th>\n",
       "      <th>flipper_length_mm</th>\n",
       "      <th>body_mass_g</th>\n",
       "    </tr>\n",
       "  </thead>\n",
       "  <tbody>\n",
       "    <tr>\n",
       "      <th>min</th>\n",
       "      <td>32.1</td>\n",
       "      <td>13.1</td>\n",
       "      <td>172.0</td>\n",
       "      <td>2700.0</td>\n",
       "    </tr>\n",
       "    <tr>\n",
       "      <th>max</th>\n",
       "      <td>59.6</td>\n",
       "      <td>21.5</td>\n",
       "      <td>231.0</td>\n",
       "      <td>6300.0</td>\n",
       "    </tr>\n",
       "  </tbody>\n",
       "</table>\n",
       "</div>"
      ],
      "text/plain": [
       "     bill_length_mm  bill_depth_mm  flipper_length_mm  body_mass_g\n",
       "min            32.1           13.1              172.0       2700.0\n",
       "max            59.6           21.5              231.0       6300.0"
      ]
     },
     "execution_count": 11,
     "metadata": {},
     "output_type": "execute_result"
    }
   ],
   "source": [
    "min_max_values"
   ]
  },
  {
   "cell_type": "code",
   "execution_count": 35,
   "id": "5ebdbfc0-2508-481c-9155-ba4d9120da18",
   "metadata": {},
   "outputs": [],
   "source": [
    "# Loop through each column and apply Min-Max scaling\n",
    "for column in columns_to_normalize:\n",
    "    min_value = penguins[column].min()\n",
    "    max_value = penguins[column].max()\n",
    "    penguins[column] = (penguins[column] - min_value) / (max_value - min_value)"
   ]
  },
  {
   "cell_type": "code",
   "execution_count": 13,
   "id": "e0ec28bf-227d-4177-8f9c-7d200cb28069",
   "metadata": {},
   "outputs": [
    {
     "data": {
      "text/html": [
       "<div>\n",
       "<style scoped>\n",
       "    .dataframe tbody tr th:only-of-type {\n",
       "        vertical-align: middle;\n",
       "    }\n",
       "\n",
       "    .dataframe tbody tr th {\n",
       "        vertical-align: top;\n",
       "    }\n",
       "\n",
       "    .dataframe thead th {\n",
       "        text-align: right;\n",
       "    }\n",
       "</style>\n",
       "<table border=\"1\" class=\"dataframe\">\n",
       "  <thead>\n",
       "    <tr style=\"text-align: right;\">\n",
       "      <th></th>\n",
       "      <th>bill_length_mm</th>\n",
       "      <th>bill_depth_mm</th>\n",
       "      <th>flipper_length_mm</th>\n",
       "      <th>body_mass_g</th>\n",
       "    </tr>\n",
       "  </thead>\n",
       "  <tbody>\n",
       "    <tr>\n",
       "      <th>min</th>\n",
       "      <td>32.1</td>\n",
       "      <td>13.1</td>\n",
       "      <td>172.0</td>\n",
       "      <td>2700.0</td>\n",
       "    </tr>\n",
       "    <tr>\n",
       "      <th>max</th>\n",
       "      <td>59.6</td>\n",
       "      <td>21.5</td>\n",
       "      <td>231.0</td>\n",
       "      <td>6300.0</td>\n",
       "    </tr>\n",
       "  </tbody>\n",
       "</table>\n",
       "</div>"
      ],
      "text/plain": [
       "     bill_length_mm  bill_depth_mm  flipper_length_mm  body_mass_g\n",
       "min            32.1           13.1              172.0       2700.0\n",
       "max            59.6           21.5              231.0       6300.0"
      ]
     },
     "execution_count": 13,
     "metadata": {},
     "output_type": "execute_result"
    }
   ],
   "source": [
    "min_max_values"
   ]
  },
  {
   "cell_type": "code",
   "execution_count": 36,
   "id": "53f7a37b-5f5c-4514-9de1-baf92020d1f7",
   "metadata": {},
   "outputs": [
    {
     "data": {
      "text/html": [
       "<div>\n",
       "<style scoped>\n",
       "    .dataframe tbody tr th:only-of-type {\n",
       "        vertical-align: middle;\n",
       "    }\n",
       "\n",
       "    .dataframe tbody tr th {\n",
       "        vertical-align: top;\n",
       "    }\n",
       "\n",
       "    .dataframe thead th {\n",
       "        text-align: right;\n",
       "    }\n",
       "</style>\n",
       "<table border=\"1\" class=\"dataframe\">\n",
       "  <thead>\n",
       "    <tr style=\"text-align: right;\">\n",
       "      <th></th>\n",
       "      <th>species</th>\n",
       "      <th>island</th>\n",
       "      <th>bill_length_mm</th>\n",
       "      <th>bill_depth_mm</th>\n",
       "      <th>flipper_length_mm</th>\n",
       "      <th>body_mass_g</th>\n",
       "      <th>sex</th>\n",
       "      <th>year</th>\n",
       "    </tr>\n",
       "  </thead>\n",
       "  <tbody>\n",
       "    <tr>\n",
       "      <th>0</th>\n",
       "      <td>Adelie</td>\n",
       "      <td>Torgersen</td>\n",
       "      <td>0.254545</td>\n",
       "      <td>0.666667</td>\n",
       "      <td>0.152542</td>\n",
       "      <td>0.291667</td>\n",
       "      <td>male</td>\n",
       "      <td>2007</td>\n",
       "    </tr>\n",
       "    <tr>\n",
       "      <th>1</th>\n",
       "      <td>Adelie</td>\n",
       "      <td>Torgersen</td>\n",
       "      <td>0.269091</td>\n",
       "      <td>0.511905</td>\n",
       "      <td>0.237288</td>\n",
       "      <td>0.305556</td>\n",
       "      <td>female</td>\n",
       "      <td>2007</td>\n",
       "    </tr>\n",
       "    <tr>\n",
       "      <th>2</th>\n",
       "      <td>Adelie</td>\n",
       "      <td>Torgersen</td>\n",
       "      <td>0.298182</td>\n",
       "      <td>0.583333</td>\n",
       "      <td>0.389831</td>\n",
       "      <td>0.152778</td>\n",
       "      <td>female</td>\n",
       "      <td>2007</td>\n",
       "    </tr>\n",
       "    <tr>\n",
       "      <th>4</th>\n",
       "      <td>Adelie</td>\n",
       "      <td>Torgersen</td>\n",
       "      <td>0.167273</td>\n",
       "      <td>0.738095</td>\n",
       "      <td>0.355932</td>\n",
       "      <td>0.208333</td>\n",
       "      <td>female</td>\n",
       "      <td>2007</td>\n",
       "    </tr>\n",
       "    <tr>\n",
       "      <th>5</th>\n",
       "      <td>Adelie</td>\n",
       "      <td>Torgersen</td>\n",
       "      <td>0.261818</td>\n",
       "      <td>0.892857</td>\n",
       "      <td>0.305085</td>\n",
       "      <td>0.263889</td>\n",
       "      <td>male</td>\n",
       "      <td>2007</td>\n",
       "    </tr>\n",
       "    <tr>\n",
       "      <th>...</th>\n",
       "      <td>...</td>\n",
       "      <td>...</td>\n",
       "      <td>...</td>\n",
       "      <td>...</td>\n",
       "      <td>...</td>\n",
       "      <td>...</td>\n",
       "      <td>...</td>\n",
       "      <td>...</td>\n",
       "    </tr>\n",
       "    <tr>\n",
       "      <th>339</th>\n",
       "      <td>Chinstrap</td>\n",
       "      <td>Dream</td>\n",
       "      <td>0.861818</td>\n",
       "      <td>0.797619</td>\n",
       "      <td>0.593220</td>\n",
       "      <td>0.361111</td>\n",
       "      <td>male</td>\n",
       "      <td>2009</td>\n",
       "    </tr>\n",
       "    <tr>\n",
       "      <th>340</th>\n",
       "      <td>Chinstrap</td>\n",
       "      <td>Dream</td>\n",
       "      <td>0.414545</td>\n",
       "      <td>0.595238</td>\n",
       "      <td>0.508475</td>\n",
       "      <td>0.194444</td>\n",
       "      <td>female</td>\n",
       "      <td>2009</td>\n",
       "    </tr>\n",
       "    <tr>\n",
       "      <th>341</th>\n",
       "      <td>Chinstrap</td>\n",
       "      <td>Dream</td>\n",
       "      <td>0.636364</td>\n",
       "      <td>0.607143</td>\n",
       "      <td>0.355932</td>\n",
       "      <td>0.298611</td>\n",
       "      <td>male</td>\n",
       "      <td>2009</td>\n",
       "    </tr>\n",
       "    <tr>\n",
       "      <th>342</th>\n",
       "      <td>Chinstrap</td>\n",
       "      <td>Dream</td>\n",
       "      <td>0.680000</td>\n",
       "      <td>0.702381</td>\n",
       "      <td>0.644068</td>\n",
       "      <td>0.388889</td>\n",
       "      <td>male</td>\n",
       "      <td>2009</td>\n",
       "    </tr>\n",
       "    <tr>\n",
       "      <th>343</th>\n",
       "      <td>Chinstrap</td>\n",
       "      <td>Dream</td>\n",
       "      <td>0.658182</td>\n",
       "      <td>0.666667</td>\n",
       "      <td>0.440678</td>\n",
       "      <td>0.298611</td>\n",
       "      <td>female</td>\n",
       "      <td>2009</td>\n",
       "    </tr>\n",
       "  </tbody>\n",
       "</table>\n",
       "<p>333 rows × 8 columns</p>\n",
       "</div>"
      ],
      "text/plain": [
       "       species     island  bill_length_mm  bill_depth_mm  flipper_length_mm  \\\n",
       "0       Adelie  Torgersen        0.254545       0.666667           0.152542   \n",
       "1       Adelie  Torgersen        0.269091       0.511905           0.237288   \n",
       "2       Adelie  Torgersen        0.298182       0.583333           0.389831   \n",
       "4       Adelie  Torgersen        0.167273       0.738095           0.355932   \n",
       "5       Adelie  Torgersen        0.261818       0.892857           0.305085   \n",
       "..         ...        ...             ...            ...                ...   \n",
       "339  Chinstrap      Dream        0.861818       0.797619           0.593220   \n",
       "340  Chinstrap      Dream        0.414545       0.595238           0.508475   \n",
       "341  Chinstrap      Dream        0.636364       0.607143           0.355932   \n",
       "342  Chinstrap      Dream        0.680000       0.702381           0.644068   \n",
       "343  Chinstrap      Dream        0.658182       0.666667           0.440678   \n",
       "\n",
       "     body_mass_g     sex  year  \n",
       "0       0.291667    male  2007  \n",
       "1       0.305556  female  2007  \n",
       "2       0.152778  female  2007  \n",
       "4       0.208333  female  2007  \n",
       "5       0.263889    male  2007  \n",
       "..           ...     ...   ...  \n",
       "339     0.361111    male  2009  \n",
       "340     0.194444  female  2009  \n",
       "341     0.298611    male  2009  \n",
       "342     0.388889    male  2009  \n",
       "343     0.298611  female  2009  \n",
       "\n",
       "[333 rows x 8 columns]"
      ]
     },
     "execution_count": 36,
     "metadata": {},
     "output_type": "execute_result"
    }
   ],
   "source": [
    "penguins"
   ]
  },
  {
   "cell_type": "code",
   "execution_count": 37,
   "id": "2d0f2740-9b20-4ae5-aef5-4cfa62a36b08",
   "metadata": {},
   "outputs": [
    {
     "name": "stdout",
     "output_type": "stream",
     "text": [
      "Shape of X_penguins_train: (266, 4)\n",
      "Shape of X_penguins_test: (67, 4)\n",
      "Shape of y_penguins_train: (266, 1)\n",
      "Shape of y_penguins_test: (67, 1)\n"
     ]
    },
    {
     "name": "stderr",
     "output_type": "stream",
     "text": [
      "/var/folders/lc/jj1mt8cs60n2kps7vwkwvgh80000gn/T/ipykernel_34572/890836196.py:23: FutureWarning: The behavior of `series[i:j]` with an integer-dtype index is deprecated. In a future version, this will be treated as *label-based* indexing, consistent with e.g. `series[i]` lookups. To retain the old behavior, use `series.iloc[i:j]`. To get the future behavior, use `series.loc[i:j]`.\n",
      "  y_penguins_train = y_penguins[:train_size_penguins]\n",
      "/var/folders/lc/jj1mt8cs60n2kps7vwkwvgh80000gn/T/ipykernel_34572/890836196.py:25: FutureWarning: The behavior of `series[i:j]` with an integer-dtype index is deprecated. In a future version, this will be treated as *label-based* indexing, consistent with e.g. `series[i]` lookups. To retain the old behavior, use `series.iloc[i:j]`. To get the future behavior, use `series.loc[i:j]`.\n",
      "  y_penguins_test = y_penguins[train_size_penguins:]\n"
     ]
    }
   ],
   "source": [
    "feature_columns_penguins = ['species', 'island', 'bill_length_mm', \n",
    "                   'bill_depth_mm', 'flipper_length_mm', 'body_mass_g', 'year'\n",
    "                  ]\n",
    "target_column_penguins = 'sex'\n",
    "\n",
    "# Create X (input features) by selecting the specified columns\n",
    "X_penguins = penguins[feature_columns_penguins]\n",
    "# Create y (target) by selecting the 'sex' column\n",
    "y_penguins = penguins[target_column_penguins]\n",
    "\n",
    "# Optionally, can convert X and y to NumPy arrays if needed\n",
    "# X = X.to_numpy()\n",
    "# y = y.to_numpy()\n",
    "\n",
    "# Shuffle the data (optional)\n",
    "penguins = penguins.sample(frac=1, random_state=42)  # Randomly shuffle the dataset\n",
    "\n",
    "# Determine the number of rows for training and testing\n",
    "total_samples_penguins = len(X_penguins)\n",
    "train_size_penguins = int(0.8 * total_samples_penguins)  # 80% for training, 20% for testing\n",
    "\n",
    "X_penguins_train = X_penguins[:train_size_penguins]\n",
    "y_penguins_train = y_penguins[:train_size_penguins]\n",
    "X_penguins_test = X_penguins[train_size_penguins:]\n",
    "y_penguins_test = y_penguins[train_size_penguins:]\n",
    "\n",
    "X_penguins_train = X_penguins_train.to_numpy()\n",
    "y_penguins_train_array = y_penguins_train.to_numpy()\n",
    "X_penguins_test = X_penguins_test.to_numpy()\n",
    "y_penguins_test_array = y_penguins_test.to_numpy()\n",
    "\n",
    "#learn [:,2:-1]\n",
    "X_penguins_train = X_penguins_train[:,2:-1]\n",
    "X_penguins_test = X_penguins_test[:, 2:-1]\n",
    "\n",
    "y_penguins_train = []\n",
    "for item in list(y_penguins_train_array):\n",
    "    if item == 'female':\n",
    "        y_penguins_train.append(0)\n",
    "    else:\n",
    "        y_penguins_train.append(1)\n",
    "y_penguins_train = np.array(y_penguins_train)\n",
    "y_penguins_train = y_penguins_train.reshape(-1, 1)\n",
    "\n",
    "y_penguins_test = []\n",
    "for item in list(y_penguins_test_array):\n",
    "    if item == 'female':\n",
    "        y_penguins_test.append(0)\n",
    "    else:\n",
    "        y_penguins_test.append(1)\n",
    "y_penguins_test = np.array(y_penguins_test)\n",
    "y_penguins_test = y_penguins_test.reshape(-1, 1)\n",
    "        \n",
    "# Check the shapes of the resulting sets\n",
    "print(\"Shape of X_penguins_train:\", X_penguins_train.shape)\n",
    "print(\"Shape of X_penguins_test:\", X_penguins_test.shape)\n",
    "print(\"Shape of y_penguins_train:\", y_penguins_train.shape)\n",
    "print(\"Shape of y_penguins_test:\", y_penguins_test.shape)\n"
   ]
  },
  {
   "cell_type": "code",
   "execution_count": null,
   "id": "9c288c36",
   "metadata": {},
   "outputs": [],
   "source": []
  },
  {
   "cell_type": "code",
   "execution_count": null,
   "id": "1259b089",
   "metadata": {},
   "outputs": [],
   "source": []
  },
  {
   "cell_type": "code",
   "execution_count": null,
   "id": "c7e5864c",
   "metadata": {},
   "outputs": [],
   "source": []
  },
  {
   "cell_type": "code",
   "execution_count": 38,
   "id": "4c544f9b",
   "metadata": {},
   "outputs": [
    {
     "data": {
      "text/plain": [
       "(266, 4)"
      ]
     },
     "execution_count": 38,
     "metadata": {},
     "output_type": "execute_result"
    }
   ],
   "source": [
    "X_penguins_train.shape"
   ]
  },
  {
   "cell_type": "code",
   "execution_count": 66,
   "id": "ad6de182-3944-46c1-9e7c-ab04cc02d7ee",
   "metadata": {},
   "outputs": [],
   "source": [
    "# m, n = X_penguins_train.shape\n",
    "# weights = np.random.uniform(0, 1, n)\n",
    "\n",
    "class LogitRegression:\n",
    "    def __init__(self, learning_rate=1e-6, iterations=100000):\n",
    "        self.learning_rate = learning_rate\n",
    "        self.iterations = iterations\n",
    "        self.weights = None\n",
    "        self.bias = None\n",
    "        self.loss = []\n",
    "        self.delta = 1e-7\n",
    "    \n",
    "    def initialize_params(self, dims):\n",
    "        # W = np.random.random((dims, 1))\n",
    "        W = np.zeros((dims, 1))\n",
    "        b = 0\n",
    "        return W, b\n",
    "\n",
    "\n",
    "    def sigmoid(self, z):\n",
    "        z = z.astype(float)\n",
    "        return 1 / (1 + np.exp(-z))\n",
    "\n",
    "    def cross_entropy(self, y, y_pred, num_train):\n",
    "        ## set the delta = 1e-7 for the np.log(0) happen\n",
    "        cost = -1 / num_train * np.sum(y * np.log(y_pred+self.delta) \\\n",
    "                        + (1 - y) * np.log(1 - y_pred+self.delta))\n",
    "        return cost\n",
    "\n",
    "#     def cost(self, y, y_pred):\n",
    "#         log_loss = -1 / m * np.sum(y_penguins_train * np.log(y_pred) + (1 - y_penguins_train) * np.log(1 - y_pred))\n",
    "#         return cross_entropy\n",
    "\n",
    "#     def gradient_descent(self, X_penguins_train, y_penguins_train, y_pred):\n",
    "#         m = len(y_penguins_train)\n",
    "#         dw = (1 / m) * np.dot(X_penguins_train.T, (y_pred - y_penguins_train))\n",
    "#         db = (1 / m) * np.sum(y_pred - y_penguins_train)\n",
    "#         return dw, db\n",
    "\n",
    "    def gradient_descent(self, X_penguins, y_penguins, W, b):\n",
    "        num_train = X_penguins.shape[0]\n",
    "        num_feature = X_penguins.shape[1]\n",
    "        y_pred = self.sigmoid(np.dot(X_penguins, W) + b)\n",
    "        cost = self.cross_entropy(y_penguins, y_pred, num_train)\n",
    "        dW = np.dot(X_penguins.T, (y_pred - y_penguins)) / num_train\n",
    "        db = np.sum(y_pred - y_penguins) / num_train\n",
    "        cost = np.squeeze(cost)\n",
    "        return y_pred, cost, dW, db\n",
    "\n",
    "    \n",
    "    def fit(self, X_penguins, y_penguins):\n",
    "        W, b = self.initialize_params(X_penguins.shape[1])\n",
    "        cost_list = []\n",
    "        \n",
    "        for i in range(self.iterations):\n",
    "            a, cost, dW, db = self.gradient_descent(X_penguins, y_penguins, W, b)\n",
    "            W = W - self.learning_rate * dW\n",
    "            cost_list.append(cost)\n",
    "            b = b - self.learning_rate * db\n",
    "            if i % 10000 == 0:\n",
    "                pass\n",
    "                # cost_list.append(cost)\n",
    "            if i % 10000 == 0:\n",
    "                print('iterations [%07d] ===> cost [%.4f]' % (i, cost))\n",
    "        \n",
    "        params = {\n",
    "            'W': W,\n",
    "            'b': b\n",
    "        }\n",
    "        grads = {\n",
    "            'dW': dW,\n",
    "            'db': db\n",
    "        }\n",
    "        return cost_list, params, grads\n",
    "\n",
    "    def predict(self, X_penguins, params):\n",
    "        y_prediction = self.sigmoid(np.dot(X_penguins, params['W']) + params['b'])\n",
    "        # binary classify\n",
    "        for i in range(len(y_prediction)):\n",
    "            if y_prediction[i] > 0.5:\n",
    "                y_prediction[i] = 1\n",
    "            else:\n",
    "                y_prediction[i] = 0\n",
    "        return y_prediction\n",
    "\n",
    "    def accuracy(self, y_test, y_pred):\n",
    "        correct_count = 0\n",
    "        for i in range(len(y_test)):\n",
    "            for j in range(len(y_pred)):\n",
    "                if y_test[i] == y_pred[j] and i == j:\n",
    "                    correct_count += 1\n",
    "        accuracy_score = correct_count / len(y_test)\n",
    "        return accuracy_score\n",
    "    \n",
    "    \n",
    "#     def fit(self, X_penguins_train, y_penguins_train):\n",
    "#         for i in range(self.iterations):\n",
    "#             linear_model = np.dot(X_penguins_train, self.weights) + self.bias\n",
    "#             y_pred = self.sigmoid(linear_model)\n",
    "\n",
    "#             dw, db = self.gradient_descent(X_penguins_train, y_penguins_train, y_pred)\n",
    "\n",
    "#             self.weights -= self.learning_rate * dw\n",
    "#             self.bias -= self.learning_rate * db\n",
    "\n",
    "#             current_loss = self.cost(y_penguins_train, y_pred)\n",
    "#             self.loss.append(current_loss)\n",
    "\n",
    "#     def predict(self, X_penguins_train):\n",
    "#         linear_model = np.dot(X_penguins_train, self.weights) + self.bias\n",
    "#         y_pred_prob = self.sigmoid(linear_model)\n",
    "#         y_pred_binary = (y_pred_prob >= 0.5).astype(int)\n",
    "#         return y_pred_binary\n",
    "\n"
   ]
  },
  {
   "cell_type": "code",
   "execution_count": 129,
   "id": "ba52447c-fdde-48aa-a703-ef561002b768",
   "metadata": {},
   "outputs": [
    {
     "name": "stdout",
     "output_type": "stream",
     "text": [
      "iterations [0000000] ===> cost [0.6931]\n",
      "iterations [0010000] ===> cost [0.6931]\n",
      "iterations [0020000] ===> cost [0.6930]\n",
      "iterations [0030000] ===> cost [0.6929]\n",
      "iterations [0040000] ===> cost [0.6929]\n",
      "iterations [0050000] ===> cost [0.6928]\n",
      "iterations [0060000] ===> cost [0.6927]\n",
      "iterations [0070000] ===> cost [0.6927]\n",
      "iterations [0080000] ===> cost [0.6926]\n",
      "iterations [0090000] ===> cost [0.6925]\n",
      "0.5074626865671642\n"
     ]
    }
   ],
   "source": [
    "learning_rate = 1e-6\n",
    "iterations = 100000\n",
    "\n",
    "\n",
    "model = LogitRegression(learning_rate=learning_rate, iterations=iterations)\n",
    "#### Train the model by calling the fit method and passing the training data\n",
    "cost_list, params, _ = model.fit(X_penguins_train, y_penguins_train)\n",
    "\n",
    "y_penguins_pred = model.predict(X_penguins_test, params)\n",
    "accuracy = model.accuracy(y_penguins_test, y_penguins_pred)\n",
    "print(accuracy)"
   ]
  },
  {
   "cell_type": "code",
   "execution_count": 131,
   "id": "cd0d3447-c4a0-4450-81c6-88eabf31c1b0",
   "metadata": {},
   "outputs": [
    {
     "name": "stdout",
     "output_type": "stream",
     "text": [
      "iterations [0000000] ===> cost [0.6931]\n",
      "0.7761194029850746\n"
     ]
    }
   ],
   "source": [
    "learning_rate = 0.01\n",
    "iterations = 10000\n",
    "\n",
    "\n",
    "model = LogitRegression(learning_rate=learning_rate, iterations=iterations)\n",
    "#### Train the model by calling the fit method and passing the training data\n",
    "cost_list, params, _ = model.fit(X_penguins_train, y_penguins_train)\n",
    "\n",
    "y_penguins_pred = model.predict(X_penguins_test, params)\n",
    "accuracy = model.accuracy(y_penguins_test, y_penguins_pred)\n",
    "print(accuracy)"
   ]
  },
  {
   "cell_type": "code",
   "execution_count": 135,
   "id": "963e7a31-89e1-4060-a805-3d5b783ef5ef",
   "metadata": {},
   "outputs": [
    {
     "name": "stdout",
     "output_type": "stream",
     "text": [
      "iterations [0000000] ===> cost [0.6931]\n",
      "0.7761194029850746\n"
     ]
    }
   ],
   "source": [
    "learning_rate = 2e-2\n",
    "iterations = 10000\n",
    "\n",
    "\n",
    "model = LogitRegression(learning_rate=learning_rate, iterations=iterations)\n",
    "#### Train the model by calling the fit method and passing the training data\n",
    "cost_list, params, _ = model.fit(X_penguins_train, y_penguins_train)\n",
    "\n",
    "y_penguins_pred = model.predict(X_penguins_test, params)\n",
    "accuracy = model.accuracy(y_penguins_test, y_penguins_pred)\n",
    "print(accuracy)"
   ]
  },
  {
   "cell_type": "code",
   "execution_count": 136,
   "id": "d00fc969-0907-4c5a-9f0e-afec5d4dad58",
   "metadata": {},
   "outputs": [
    {
     "data": {
      "image/png": "[encoded data removed]",
      "text/plain": [
       "<Figure size 640x480 with 1 Axes>"
      ]
     },
     "metadata": {},
     "output_type": "display_data"
    }
   ],
   "source": [
    "import matplotlib.pyplot as plt\n",
    "iters = [i for i in range(len(cost_list))]\n",
    "plt.plot(iters, cost_list)\n",
    "plt.xlabel('iterations')  # 横坐标标签\n",
    "plt.ylabel('cost') \n",
    "plt.show()"
   ]
  },
  {
   "cell_type": "code",
   "execution_count": null,
   "id": "cf05ffeb-5048-4cd3-b3ac-66d63caa011e",
   "metadata": {},
   "outputs": [],
   "source": []
  }
 ],
 "metadata": {
  "kernelspec": {
   "display_name": "Python 3 (ipykernel)",
   "language": "python",
   "name": "python3"
  },
  "language_info": {
   "codemirror_mode": {
    "name": "ipython",
    "version": 3
   },
   "file_extension": ".py",
   "mimetype": "text/x-python",
   "name": "python",
   "nbconvert_exporter": "python",
   "pygments_lexer": "ipython3",
   "version": "3.8.16"
  }
 },
 "nbformat": 4,
 "nbformat_minor": 5
}
